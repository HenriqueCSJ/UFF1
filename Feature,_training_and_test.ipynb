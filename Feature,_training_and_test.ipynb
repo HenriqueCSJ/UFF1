{
  "cells": [
    {
      "cell_type": "code",
      "execution_count": null,
      "metadata": {
        "id": "dtnWHd7iOosB"
      },
      "outputs": [],
      "source": [
        "import pandas as pd\n",
        "import numpy as np\n",
        "import seaborn as sns\n",
        "import matplotlib.pyplot as plt"
      ]
    },
    {
      "cell_type": "code",
      "execution_count": null,
      "metadata": {
        "id": "3YLTD0QeOxvt"
      },
      "outputs": [],
      "source": [
        "df = pd.read_pickle(\"/content/drive/My Drive/Doutorado/Tese/MLData/Final/FinalDataFrameCM.pkl\")"
      ]
    },
    {
      "cell_type": "code",
      "execution_count": null,
      "metadata": {
        "colab": {
          "base_uri": "https://localhost:8080/",
          "height": 514
        },
        "id": "QCEKxQcFytnm",
        "outputId": "2a20e8d5-f2a7-4965-e93e-3e2731aa2125"
      },
      "outputs": [],
      "source": [
        "plt.figure(figsize=(12,8))\n",
        "sns.scatterplot(x='Dipole moment Z' , y='CAS Heff D', data=df, hue=\"Coordination number\", palette=\"viridis\", alpha=0.5, s=15)"
      ]
    },
    {
      "cell_type": "code",
      "execution_count": null,
      "metadata": {
        "id": "RBf7iq3-PDiM"
      },
      "outputs": [],
      "source": [
        "df[\"Coordination number\"] = df[\"Coordination number\"].apply(int)\n",
        "df[\"Padded flatten coulumb matrix\"] = df[\"Padded coulumb matrix\"].apply(np.ndarray.flatten)"
      ]
    },
    {
      "cell_type": "code",
      "execution_count": null,
      "metadata": {
        "id": "cSQpxkzzPJDQ"
      },
      "outputs": [],
      "source": [
        "# Getting rid of S = 2\n",
        "df = df[df[\"CAS root Mult\"] != 2]\n",
        "df = df[df[\"CAS Heff E/D\"] != 0]"
      ]
    },
    {
      "cell_type": "code",
      "execution_count": null,
      "metadata": {
        "colab": {
          "base_uri": "https://localhost:8080/"
        },
        "id": "DMl80yYy45fO",
        "outputId": "55858c24-f107-442d-b660-caf889c9a2a8"
      },
      "outputs": [],
      "source": [
        "df.columns"
      ]
    },
    {
      "cell_type": "code",
      "execution_count": null,
      "metadata": {
        "id": "46cf1jLJPN8E"
      },
      "outputs": [],
      "source": [
        "# Drop useless columns\n",
        "\n",
        "df.drop(['Cartesian coordinates',\n",
        " 'Internal coordinates',\n",
        " 'Padded flatten coulumb matrix',\n",
        " 'Bond lengths 1',\n",
        " 'Bond lengths 2',\n",
        " 'Bond angles',\n",
        " \"CAS root Mult\",\n",
        " 'CAS GS energy (Eh)',\n",
        " 'CAS transition energies',\n",
        " 'CAS Kramers',\n",
        " 'CAS Ms states',\n",
        " 'Elements',\n",
        " 'Coordinates',\n",
        " 'Z',\n",
        " 'Coulumb matrix',\n",
        " \"SOC CAS lowest eigenv. (Eh)\",\n",
        " 'Padded coulumb matrix',\n",
        " 'CAS 2PT D',\n",
        " 'CAS 2PT E/D',\n",
        " 'CAS d-orb1 (eV)',\n",
        " \"CAS d-orb1 (cm-1)\",\n",
        " 'CAS d-orb1 (xy)',\n",
        " 'CAS d-orb1 (yz)',\n",
        " 'CAS d-orb1 (z2)',\n",
        " 'CAS d-orb1 (xz)',\n",
        " 'CAS d-orb1 (x2y2)',\n",
        " 'CAS d-orb2 (eV)',\n",
        " 'CAS d-orb2 (xy)',\n",
        " 'CAS d-orb2 (yz)',\n",
        " 'CAS d-orb2 (z2)',\n",
        " 'CAS d-orb2 (xz)',\n",
        " 'CAS d-orb2 (x2y2)',\n",
        " 'CAS d-orb3 (eV)',\n",
        " 'CAS d-orb3 (xy)',\n",
        " 'CAS d-orb3 (yz)',\n",
        " 'CAS d-orb3 (z2)',\n",
        " 'CAS d-orb3 (xz)',\n",
        " 'CAS d-orb3 (x2y2)',\n",
        " 'CAS d-orb4 (eV)',\n",
        " 'CAS d-orb4 (xy)',\n",
        " 'CAS d-orb4 (yz)',\n",
        " 'CAS d-orb4 (z2)',\n",
        " 'CAS d-orb4 (xz)',\n",
        " 'CAS d-orb4 (x2y2)',\n",
        " 'CAS d-orb5 (eV)',\n",
        " 'CAS d-orb5 (xy)',\n",
        " 'CAS d-orb5 (yz)',\n",
        " 'CAS d-orb5 (z2)',\n",
        " 'CAS d-orb5 (xz)',\n",
        " 'CAS d-orb5 (x2y2)',\n",
        " \"CAS SOC a\",\n",
        " \"Number of elements\",\n",
        " 'CAS gx',\n",
        " 'CAS gy',\n",
        " 'CAS gz',\n",
        " 'CAS giso',\n",
        " 'CAS Heff E/D'], axis=1, inplace=True)"
      ]
    },
    {
      "cell_type": "code",
      "execution_count": null,
      "metadata": {
        "id": "y2BFwcOWPUbc"
      },
      "outputs": [],
      "source": [
        "df_dft = df[['Coordination number',\n",
        "             'Spin deviation',\n",
        "             'SOMO-LUMO gap (a.u)',\n",
        "             'SOMO-1-LUMO gap',\n",
        "             'SOMO-2-LUMO gap',\n",
        "             'Dipole moment X',\n",
        "             'Dipole moment Y',\n",
        "             'Dipole moment Z',\n",
        "             'CAS Heff D']]"
      ]
    },
    {
      "cell_type": "code",
      "execution_count": null,
      "metadata": {
        "id": "VJrtYvuxPXVV"
      },
      "outputs": [],
      "source": [
        "# Drop NaN values\n",
        "df_dft = df_dft.dropna()"
      ]
    },
    {
      "cell_type": "code",
      "execution_count": null,
      "metadata": {
        "colab": {
          "base_uri": "https://localhost:8080/",
          "height": 485
        },
        "id": "moRP7aAsPcYX",
        "outputId": "e156f916-f2d0-4e71-fb3a-30da5f662884"
      },
      "outputs": [],
      "source": [
        "df_dft"
      ]
    },
    {
      "cell_type": "code",
      "execution_count": null,
      "metadata": {
        "id": "IQ3vod8HPis6"
      },
      "outputs": [],
      "source": [
        "from sklearn.model_selection import train_test_split"
      ]
    },
    {
      "cell_type": "code",
      "execution_count": null,
      "metadata": {
        "id": "Aqh5Dc9KPmyo"
      },
      "outputs": [],
      "source": [
        "X = df_dft.drop(['CAS Heff D'], axis=1).values"
      ]
    },
    {
      "cell_type": "code",
      "execution_count": null,
      "metadata": {
        "id": "gfc99G6NP_zd"
      },
      "outputs": [],
      "source": [
        "y = df_dft[[\"CAS Heff D\"]].values"
      ]
    },
    {
      "cell_type": "code",
      "execution_count": null,
      "metadata": {
        "id": "qMtR-gF0QAzf"
      },
      "outputs": [],
      "source": [
        "X_train, X_test, y_train, y_test = train_test_split(X, y, test_size=0.1, random_state=42)"
      ]
    },
    {
      "cell_type": "code",
      "execution_count": null,
      "metadata": {
        "id": "wklhTwCgQQ-D"
      },
      "outputs": [],
      "source": [
        "from sklearn.preprocessing import StandardScaler, MinMaxScaler"
      ]
    },
    {
      "cell_type": "code",
      "execution_count": null,
      "metadata": {
        "id": "0K16AID0QdS_"
      },
      "outputs": [],
      "source": [
        "scaler = StandardScaler()"
      ]
    },
    {
      "cell_type": "code",
      "execution_count": null,
      "metadata": {
        "id": "QaYemgtvQfaY"
      },
      "outputs": [],
      "source": [
        "X_train = scaler.fit_transform(X_train)"
      ]
    },
    {
      "cell_type": "code",
      "execution_count": null,
      "metadata": {
        "colab": {
          "base_uri": "https://localhost:8080/"
        },
        "id": "I3OwfWVlfmn2",
        "outputId": "6a1af470-53d6-4ba3-b09d-6380b37b49f3"
      },
      "outputs": [],
      "source": [
        "len(X_test)"
      ]
    },
    {
      "cell_type": "code",
      "execution_count": null,
      "metadata": {
        "id": "jSRcOcQ0QhWz"
      },
      "outputs": [],
      "source": [
        "X_test = scaler.transform(X_test)"
      ]
    },
    {
      "cell_type": "code",
      "execution_count": null,
      "metadata": {
        "colab": {
          "base_uri": "https://localhost:8080/"
        },
        "id": "lS3U10WMe7Oq",
        "outputId": "d9d4b272-75b3-442d-db8b-e542ba31a7af"
      },
      "outputs": [],
      "source": [
        "X_test[0]"
      ]
    },
    {
      "cell_type": "code",
      "execution_count": null,
      "metadata": {
        "id": "hofkadAZQmq2"
      },
      "outputs": [],
      "source": [
        "from tensorflow.keras.models import Sequential\n",
        "from tensorflow.keras.layers import Dense, Dropout\n",
        "from tensorflow.keras.callbacks import EarlyStopping\n",
        "from tensorflow.keras.layers import Dropout\n",
        "from tensorflow.keras.optimizers import Adam\n",
        "from tensorflow.keras.optimizers import Nadam"
      ]
    },
    {
      "cell_type": "code",
      "execution_count": null,
      "metadata": {
        "id": "OKAw-fHPQrLH"
      },
      "outputs": [],
      "source": [
        "early_stop = EarlyStopping(monitor=\"val_loss\", mode=\"min\", verbose=1, patience=100)"
      ]
    },
    {
      "cell_type": "code",
      "execution_count": null,
      "metadata": {
        "id": "7sPSAQzuL_--"
      },
      "outputs": [],
      "source": [
        "opt = Nadam(learning_rate=0.0001)"
      ]
    },
    {
      "cell_type": "code",
      "execution_count": null,
      "metadata": {
        "id": "Q6FrqERdQ1_v"
      },
      "outputs": [],
      "source": [
        "model = Sequential()\n",
        "\n",
        "# Input layer\n",
        "model.add(Dense(8, activation=\"selu\"))\n",
        "\n",
        "# Hidden layers\n",
        "model.add(Dense(552, activation=\"selu\"))\n",
        "model.add(Dense(424, activation=\"selu\"))\n",
        "model.add(Dense(552, activation=\"selu\"))\n",
        "model.add(Dense(424, activation=\"selu\"))\n",
        "model.add(Dense(72, activation=\"selu\"))\n",
        "#model.add(Dense(82, activation=\"selu\"))\n",
        "#model.add(Dense(8, activation=\"selu\"))\n",
        "\n",
        "\n",
        "# Output layer\n",
        "model.add(Dense(1))\n",
        "\n",
        "model.compile(optimizer=opt, loss=\"mse\")"
      ]
    },
    {
      "cell_type": "code",
      "execution_count": null,
      "metadata": {
        "colab": {
          "base_uri": "https://localhost:8080/"
        },
        "id": "K23sWashQ6Z3",
        "outputId": "5c247ded-ba6f-4a26-a45d-9b4c1261de24"
      },
      "outputs": [],
      "source": [
        "model.fit(x=X_train, y=y_train, epochs=1000, validation_data=(X_test, y_test), callbacks=[early_stop])"
      ]
    },
    {
      "cell_type": "code",
      "execution_count": null,
      "metadata": {
        "id": "jBChS8FwSoil"
      },
      "outputs": [],
      "source": [
        "losses = pd.DataFrame(model.history.history)"
      ]
    },
    {
      "cell_type": "code",
      "execution_count": null,
      "metadata": {
        "id": "vLewGcJxSqMj"
      },
      "outputs": [],
      "source": [
        "losses.plot()"
      ]
    },
    {
      "cell_type": "code",
      "execution_count": null,
      "metadata": {
        "id": "_inBwYRFSvWs"
      },
      "outputs": [],
      "source": [
        "from sklearn.metrics import mean_squared_error, mean_absolute_error, explained_variance_score"
      ]
    },
    {
      "cell_type": "code",
      "execution_count": null,
      "metadata": {
        "id": "d_K911F9SxV8"
      },
      "outputs": [],
      "source": [
        "predictions = model.predict(X_test)"
      ]
    },
    {
      "cell_type": "code",
      "execution_count": null,
      "metadata": {
        "colab": {
          "base_uri": "https://localhost:8080/"
        },
        "id": "IgtT5J3zSzBB",
        "outputId": "73b1f598-84b9-457a-d9a5-923251ecd10c"
      },
      "outputs": [],
      "source": [
        "predictions"
      ]
    },
    {
      "cell_type": "code",
      "execution_count": null,
      "metadata": {
        "colab": {
          "base_uri": "https://localhost:8080/"
        },
        "id": "r81H9SslS0U9",
        "outputId": "ca733462-ae3b-4780-b653-18b3e9f4ea05"
      },
      "outputs": [],
      "source": [
        "mean_squared_error(y_test, predictions)"
      ]
    },
    {
      "cell_type": "code",
      "execution_count": null,
      "metadata": {
        "colab": {
          "base_uri": "https://localhost:8080/"
        },
        "id": "5IrHbTxAS2P3",
        "outputId": "b738696f-0bcf-41f1-e34f-e0b79ac3dff1"
      },
      "outputs": [],
      "source": [
        "np.sqrt(mean_squared_error(y_test, predictions))"
      ]
    },
    {
      "cell_type": "code",
      "execution_count": null,
      "metadata": {
        "colab": {
          "base_uri": "https://localhost:8080/"
        },
        "id": "_M_G0U2WS4Jk",
        "outputId": "cde6d87c-670f-4b69-9a15-f414e5cf4ac2"
      },
      "outputs": [],
      "source": [
        "explained_variance_score(y_test, predictions)"
      ]
    },
    {
      "cell_type": "code",
      "execution_count": null,
      "metadata": {
        "colab": {
          "base_uri": "https://localhost:8080/",
          "height": 424
        },
        "id": "AD8TggsSS7vb",
        "outputId": "0d42f4f2-ed74-409a-f938-fe33eb3e6992"
      },
      "outputs": [],
      "source": [
        "pd.DataFrame(predictions)"
      ]
    },
    {
      "cell_type": "code",
      "execution_count": null,
      "metadata": {
        "colab": {
          "base_uri": "https://localhost:8080/",
          "height": 424
        },
        "id": "eAXU9ooYbLrx",
        "outputId": "eb22eee8-97e3-4d11-f584-cc7e27833f32"
      },
      "outputs": [],
      "source": [
        "pd.DataFrame(y_test)"
      ]
    },
    {
      "cell_type": "code",
      "execution_count": null,
      "metadata": {
        "colab": {
          "background_save": true
        },
        "id": "F1Y2F_xkS9Vz"
      },
      "outputs": [],
      "source": [
        "from tensorflow.keras.models import load_model"
      ]
    },
    {
      "cell_type": "code",
      "execution_count": null,
      "metadata": {
        "colab": {
          "background_save": true
        },
        "id": "FiEVPKHvb9lD"
      },
      "outputs": [],
      "source": [
        "#model.save(\"/content/drive/My Drive/Doutorado/Tese/MLData/Final/KerasFinalDataFrame_927X.h5\")"
      ]
    },
    {
      "cell_type": "code",
      "execution_count": null,
      "metadata": {
        "colab": {
          "background_save": true
        },
        "id": "gTDPVOeSeN0u"
      },
      "outputs": [],
      "source": [
        "#later_model = load_model(\"/content/drive/My Drive/Doutorado/Tese/MLData/Final/KerasFinalDataFrame_900_bkp.h5\")"
      ]
    },
    {
      "cell_type": "code",
      "execution_count": null,
      "metadata": {
        "colab": {
          "background_save": true
        },
        "id": "adQHkRyb2xwP",
        "outputId": "52a1a49c-5442-4f7e-b593-640dc8b05aee"
      },
      "outputs": [],
      "source": [
        "later_model"
      ]
    },
    {
      "cell_type": "code",
      "execution_count": null,
      "metadata": {
        "colab": {
          "background_save": true
        },
        "id": "jsuR0FifeQWf"
      },
      "outputs": [],
      "source": [
        "my_test = np.array([6, 0.003762, 0.10547099999999998, 0.13817999999999997, 0.17089499999999996, -0.03925, 0.00339, 0.0364])\n",
        "#my_test2 = np.array([3, 0.004253, \t0.077239, \t0.128419, \t0.131415, \t-0.00921, \t0.86035, \t-0.03701])\n",
        "#my_test3 = np.array([6, 0.006231, 0.118135, 0.118381, 0.124332, -0.003692, 0.007768, -0.009292])\n",
        "#my_test4 = np.array([4, 0.008566, 0.120533, 0.123375, 0.125175, -0.26358, -0.04802, 0.55263])\n",
        "#my_test5 = np.array([2, 0.01348, 0.034661, 0.052932, 0.100992, 0.0206, -0.02018, 0.09339])\n",
        "#my_test6 = np.array([6, 0.002823, 0.141368, 0.157296, 0.200172, 0.17434, -0.37221, 0.72431])\n",
        "my_test7 = np.array([4, 0.003354, 0.121585, 0.16092, 0.195776, 0.00577, -0.00283, -0.0033])"
      ]
    },
    {
      "cell_type": "code",
      "execution_count": null,
      "metadata": {
        "colab": {
          "background_save": true
        },
        "id": "kIqjuSPwroUO"
      },
      "outputs": [],
      "source": [
        "my_test = scaler.transform(my_test.reshape(1, -1))"
      ]
    },
    {
      "cell_type": "code",
      "execution_count": null,
      "metadata": {
        "colab": {
          "background_save": true
        },
        "id": "1M0WPRFc3iHe"
      },
      "outputs": [],
      "source": [
        "my_test7 = scaler.transform(my_test7.reshape(1, -1))"
      ]
    },
    {
      "cell_type": "code",
      "execution_count": null,
      "metadata": {
        "colab": {
          "background_save": true
        },
        "id": "QzHimPuJsIoj"
      },
      "outputs": [],
      "source": [
        "pred1 = later_model.predict(my_test)"
      ]
    },
    {
      "cell_type": "code",
      "execution_count": null,
      "metadata": {
        "colab": {
          "background_save": true
        },
        "id": "sTQVp7m964_9"
      },
      "outputs": [],
      "source": [
        "pred1"
      ]
    },
    {
      "cell_type": "code",
      "execution_count": null,
      "metadata": {
        "colab": {
          "background_save": true
        },
        "id": "gH4f-5Wq3-Hp"
      },
      "outputs": [],
      "source": [
        "pred7 = later_model.predict(my_test7)"
      ]
    },
    {
      "cell_type": "code",
      "execution_count": null,
      "metadata": {
        "colab": {
          "background_save": true
        },
        "id": "DvyVtbuKsyDq"
      },
      "outputs": [],
      "source": [
        "pred7"
      ]
    },
    {
      "cell_type": "code",
      "execution_count": null,
      "metadata": {
        "colab": {
          "background_save": true
        },
        "id": "X9R7KlCpsy4w"
      },
      "outputs": [],
      "source": [
        "X_test[3000]"
      ]
    },
    {
      "cell_type": "code",
      "execution_count": null,
      "metadata": {
        "colab": {
          "background_save": true
        },
        "id": "3chSLgS7tP6h"
      },
      "outputs": [],
      "source": [
        "y_test[3000]"
      ]
    },
    {
      "cell_type": "code",
      "execution_count": null,
      "metadata": {
        "colab": {
          "background_save": true
        },
        "id": "cSH5Piuxtz4f"
      },
      "outputs": [],
      "source": [
        "my_test2 = np.array([4, 0.004253, \t0.077239, \t0.128419, \t0.131415, \t-0.00921, \t0.86035, \t-0.03701])"
      ]
    },
    {
      "cell_type": "code",
      "execution_count": null,
      "metadata": {
        "colab": {
          "background_save": true
        },
        "id": "T4QiCGTF3QCJ"
      },
      "outputs": [],
      "source": [
        "    my_test2"
      ]
    },
    {
      "cell_type": "code",
      "execution_count": null,
      "metadata": {
        "colab": {
          "background_save": true
        },
        "id": "_DsCjxZG3ZK8"
      },
      "outputs": [],
      "source": []
    }
  ],
  "metadata": {
    "accelerator": "GPU",
    "colab": {
      "provenance": []
    },
    "kernelspec": {
      "display_name": "Python 3",
      "name": "python3"
    }
  },
  "nbformat": 4,
  "nbformat_minor": 0
}
